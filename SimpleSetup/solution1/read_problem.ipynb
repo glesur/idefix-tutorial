{
 "cells": [
  {
   "cell_type": "code",
   "execution_count": null,
   "id": "3e2c3df3-1571-4b34-93d0-fdaee8268602",
   "metadata": {},
   "outputs": [],
   "source": [
    "# import Idefix python tools (part of the Idefix git repo, so we add this to python path) \n",
    "%matplotlib widget\n",
    "import os\n",
    "import sys\n",
    "# These path are specific to this Jureca tutorial\n",
    "user=os.getenv(\"USER\")\n",
    "sys.path.append(\"/p/project1/training2437/tera_day2/\"+user+\"/idefix/idefix.src/\")\n",
    "from pytools.vtk_io import readVTK\n",
    "import matplotlib.pyplot as plt\n",
    "import numpy as np"
   ]
  },
  {
   "cell_type": "code",
   "execution_count": null,
   "id": "d2c599c7-d2f7-4b8f-a2a1-a6a00618c5a4",
   "metadata": {},
   "outputs": [],
   "source": [
    "# Load the last VTK file produced by Idefix\n",
    "V=readVTK(\"data.0005.vtk\")"
   ]
  },
  {
   "cell_type": "code",
   "execution_count": null,
   "id": "40e4d922-23c5-4b8f-b384-288253aea690",
   "metadata": {},
   "outputs": [],
   "source": [
    "# Load the last VTK file produced by Idefix\n",
    "V=readVTK(\"data.0005.vtk\")\n",
    "for field in V.data.keys():\n",
    "  plt.figure(figsize=(10,4))\n",
    "  plt.pcolormesh(V.x,V.y,V.data[field][:,:,0].T)\n",
    "  plt.title(field+ \" @ t=%f\"%V.t)\n",
    "  plt.colorbar()\n",
    "  plt.gca().set_aspect('equal')"
   ]
  },
  {
   "cell_type": "code",
   "execution_count": null,
   "id": "0c5524fe-bc16-4e0c-aeca-7cd684878d72",
   "metadata": {},
   "outputs": [],
   "source": [
    "# compute vorticity\n",
    "wz = np.gradient(V.data['VX2'],V.x,axis=0)-np.gradient(V.data['VX1'],V.y,axis=1)"
   ]
  },
  {
   "cell_type": "code",
   "execution_count": null,
   "id": "78b0a964-d249-42c7-b10e-06aed15262b6",
   "metadata": {},
   "outputs": [],
   "source": [
    "plt.figure(figsize=(10,4))\n",
    "plt.pcolormesh(V.x,V.y,wz[:,:,0].T)\n",
    "plt.title(r\"$\\omega_z$ @ t=%f\"%V.t)\n",
    "plt.colorbar()\n",
    "plt.gca().set_aspect('equal')"
   ]
  }
 ],
 "metadata": {
  "kernelspec": {
   "display_name": "Python 3 (ipykernel)",
   "language": "python",
   "name": "python3"
  },
  "language_info": {
   "codemirror_mode": {
    "name": "ipython",
    "version": 3
   },
   "file_extension": ".py",
   "mimetype": "text/x-python",
   "name": "python",
   "nbconvert_exporter": "python",
   "pygments_lexer": "ipython3",
   "version": "3.10.14"
  }
 },
 "nbformat": 4,
 "nbformat_minor": 5
}
