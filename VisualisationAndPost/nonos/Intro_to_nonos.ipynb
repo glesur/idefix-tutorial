{
 "cells": [
  {
   "cell_type": "markdown",
   "id": "0",
   "metadata": {},
   "source": [
    "## Introduction\n",
    "\n",
    "`nonos` is a 2D visualization Python library, developed by Gaylor Wafflard-Fernandez (gaylor.wafflard@univ-grenoble-alpes.fr) initially for planet-disk numerical simulations, as well as a command line application. It works with VTK-formatted data from IDEFIX and PLUTO, and dat-formatted data from FARGO-ADSG and FARGO3D. Most of the implementation has been made for polar / spherical outputs, even though some basic operations are possible in cartesian.\n",
    "\n",
    "In this tutorial, we will learn how to: \n",
    "- load an IDEFIX dataset with `nonos.api.GasDataSet`\n",
    "- perform some operations on a field (e.g., slices, projection)\n",
    "- create a new field with `nonos.api.compute`\n",
    "- visualize the data"
   ]
  },
  {
   "cell_type": "markdown",
   "id": "1",
   "metadata": {
    "tags": []
   },
   "source": [
    "## Resources\n",
    "\n",
    "See the [documentation](https://nonos.readthedocs.io/en/latest/) for an introduction of nonos."
   ]
  },
  {
   "cell_type": "markdown",
   "id": "2",
   "metadata": {},
   "source": [
    "## Visualization from an Idefix point of view\n",
    "\n",
    "### 1 - Loading a dataset"
   ]
  },
  {
   "cell_type": "markdown",
   "id": "3",
   "metadata": {},
   "source": [
    "Get the path of the directory where you ran the planet-disk interaction problem (`../AdvancedSetup/problem1/`), and import the following libraries (in particular `GasDataSet` from `nonos.api`)"
   ]
  },
  {
   "cell_type": "code",
   "execution_count": null,
   "id": "4",
   "metadata": {},
   "outputs": [],
   "source": [
    "import matplotlib.pyplot as plt\n",
    "import numpy as np\n",
    "import sys\n",
    "from nonos.api import GasDataSet\n",
    "from nonos.styling import set_mpl_style\n",
    "\n",
    "set_mpl_style(1)  # not mandatory, just a custom style"
   ]
  },
  {
   "cell_type": "code",
   "execution_count": null,
   "id": "5",
   "metadata": {},
   "outputs": [],
   "source": [
    "directory = \"../../AdvancedSetup/solution1/\"  # CHECK YOUR PATH!\n",
    "# load the VTK file data.0003.vtk in the dataset ds\n",
    "ds = GasDataSet(3, directory=directory)"
   ]
  },
  {
   "cell_type": "markdown",
   "id": "6",
   "metadata": {},
   "source": [
    "`ds` is a field container, and you can access the fields in the form of a dictionary. You can check what fields are included in `ds` by running:"
   ]
  },
  {
   "cell_type": "code",
   "execution_count": null,
   "id": "7",
   "metadata": {},
   "outputs": [],
   "source": [
    "list(ds.keys())"
   ]
  },
  {
   "cell_type": "code",
   "execution_count": null,
   "id": "8",
   "metadata": {},
   "outputs": [],
   "source": [
    "ds, ds[\"RHO\"]"
   ]
  },
  {
   "cell_type": "markdown",
   "id": "9",
   "metadata": {},
   "source": [
    "### 2 - Access the data and perform operations"
   ]
  },
  {
   "cell_type": "markdown",
   "id": "10",
   "metadata": {},
   "source": [
    "For this dataset, the simulation is in polar coordinates ($R$, $\\phi$, $z$):"
   ]
  },
  {
   "cell_type": "code",
   "execution_count": null,
   "id": "11",
   "metadata": {},
   "outputs": [],
   "source": [
    "print(f\"{ds.native_geometry}: {ds.coords.cube}\")"
   ]
  },
  {
   "cell_type": "markdown",
   "id": "12",
   "metadata": {},
   "source": [
    "You can therefore have access to a 1D array of the coordinates in the simulation with `ds.coords.R`, `ds.coords.phi` and `ds.coords.z` for the cell edges and `ds.coords.Rmed`, `ds.coords.phimed`, `ds.coords.zmed` for the cell centers."
   ]
  },
  {
   "cell_type": "code",
   "execution_count": null,
   "id": "13",
   "metadata": {},
   "outputs": [],
   "source": [
    "ds.coords.phi"
   ]
  },
  {
   "cell_type": "markdown",
   "id": "14",
   "metadata": {},
   "source": [
    "Concerning the data for the different fields including in the vtk, e.g. the density field `ds[\"RHO\"]`, you can access it using `ds[\"RHO\"].data`, which is basically a numpy array. You can therefore have access to useful information such as its shape:"
   ]
  },
  {
   "cell_type": "code",
   "execution_count": null,
   "id": "15",
   "metadata": {},
   "outputs": [],
   "source": [
    "ds[\"RHO\"].data.shape"
   ]
  },
  {
   "cell_type": "markdown",
   "id": "16",
   "metadata": {},
   "source": [
    "Several operations can be made on the fields depending on the geometry, for example here you can perform an azimuthal average of the density."
   ]
  },
  {
   "cell_type": "code",
   "execution_count": null,
   "id": "17",
   "metadata": {},
   "outputs": [],
   "source": [
    "# Azimuhtally averaged density field\n",
    "ds[\"RHO\"].azimuthal_average()"
   ]
  },
  {
   "cell_type": "markdown",
   "id": "18",
   "metadata": {},
   "source": [
    "As you can see, it creates a new field with the same attributes as the original density field, but with a reduced dimension."
   ]
  },
  {
   "cell_type": "code",
   "execution_count": null,
   "id": "19",
   "metadata": {},
   "outputs": [],
   "source": [
    "ds[\"RHO\"].azimuthal_average().data.shape"
   ]
  },
  {
   "cell_type": "markdown",
   "id": "20",
   "metadata": {},
   "source": [
    "The general operations that are available depending on the native geometry of the data are listed in the documentation on [this link](https://nonos.readthedocs.io/en/latest/api/#1-general-operations) (example: `radial_at_r(distance)` for a slice at a given radius, or `latitudinal_projection(theta)` for an integral between $-\\theta$ and $\\theta$)"
   ]
  },
  {
   "cell_type": "markdown",
   "id": "21",
   "metadata": {},
   "source": [
    "### 3 - Compute a new field"
   ]
  },
  {
   "cell_type": "markdown",
   "id": "22",
   "metadata": {},
   "source": [
    "We now want to consider the azimuthal component of the gas velocity ($v_\\phi$) computed in the frame corotating with the planet  (located in $R_p$, rotating at $\\Omega_p=R_p^{-3/2}$), and therefore create a corrotating field $v_\\phi^C$\n",
    "\n",
    "$v_\\phi^C = v_\\phi - R\\Omega_p$\n",
    "\n",
    "We start by definiting the planet's parameters"
   ]
  },
  {
   "cell_type": "code",
   "execution_count": null,
   "id": "23",
   "metadata": {},
   "outputs": [],
   "source": [
    "# radial location of the planet\n",
    "Rp = 1.0\n",
    "# Angular velocity of the planet\n",
    "OmegaP = Rp**(-3/2)"
   ]
  },
  {
   "cell_type": "markdown",
   "id": "24",
   "metadata": {},
   "source": [
    "In order to compute a new field from preexisting ones, you can use the `compute` function imported from `nonos.api`, which takes 3 arguments:\n",
    "- the name of the new field\n",
    "- the corresponding array\n",
    "- a known field with similar structure as the new field "
   ]
  },
  {
   "cell_type": "code",
   "execution_count": null,
   "id": "25",
   "metadata": {},
   "outputs": [],
   "source": [
    "from nonos.api import compute\n",
    "\n",
    "# 3D array of the radial coordinate\n",
    "Rmed3d = ds.coords.Rmed[:, None, None]\n",
    "\n",
    "vphifield = compute(\n",
    "    field=\"VPHI\",\n",
    "    data=ds[\"VX2\"].data - Rmed3d * (OmegaP),\n",
    "    ref=ds[\"VX2\"],  # same structure as v_phi field\n",
    ")"
   ]
  },
  {
   "cell_type": "markdown",
   "id": "26",
   "metadata": {},
   "source": [
    "### 4. Visualize the data"
   ]
  },
  {
   "cell_type": "markdown",
   "id": "27",
   "metadata": {},
   "source": [
    "Before plotting the data, we need to convert the field into an object that can be plotted. To do that, nonos will map the field from the native geometry of the outputs to a target geometry. For example, if the native geometry of the dataset is `polar` ($R$, $\\phi$, $z$), you can map it (and then visualize it) in a polar plane ($R$, $\\phi$), but also in a cartesian plane ($x$, $y$)."
   ]
  },
  {
   "cell_type": "code",
   "execution_count": null,
   "id": "28",
   "metadata": {},
   "outputs": [],
   "source": [
    "ds[\"RHO\"].map(\"x\", \"y\")"
   ]
  },
  {
   "cell_type": "markdown",
   "id": "29",
   "metadata": {},
   "source": [
    "Note that here there is just one cell in the vertical direction, so you don't need to perform a vertical slice beforehand. But in a general 3D case, you need first to reduce the dimension with one or two operations, and then map the field in the target plane."
   ]
  },
  {
   "cell_type": "code",
   "execution_count": null,
   "id": "30",
   "metadata": {},
   "outputs": [],
   "source": [
    "# Create figure and subplots with matplotlib.pyplot\n",
    "fig, ax = plt.subplots()\n",
    "# Density field mapped in the cartesian plane (x, y), and then plotted in log scale\n",
    "ds[\"RHO\"].map(\"x\", \"y\").plot(fig, ax, log=True, cmap=\"inferno\", title=r\"$\\rho$\")\n",
    "# Same scaling for x-axis and y-axis\n",
    "ax.set(aspect=\"equal\")\n",
    "plt.show()"
   ]
  },
  {
   "cell_type": "markdown",
   "id": "31",
   "metadata": {},
   "source": [
    "We have here a cartesian view of the density field, in log scale, using the colormap `\"inferno\"` and with a colorbar and title. We can do the same in a polar view."
   ]
  },
  {
   "cell_type": "code",
   "execution_count": null,
   "id": "32",
   "metadata": {},
   "outputs": [],
   "source": [
    "fig, ax = plt.subplots()\n",
    "# Density field mapped in the polar plane (phi, R), and then plotted in log scale\n",
    "ds[\"RHO\"].map(\"phi\", \"R\").plot(\n",
    "    fig, ax, log=True, cmap=\"inferno\", title=r\"$\\rho$\"\n",
    ")\n",
    "plt.show()"
   ]
  },
  {
   "cell_type": "code",
   "execution_count": null,
   "id": "33",
   "metadata": {},
   "outputs": [],
   "source": [
    "# Same here, but reversing the axes (phi, R) -> (R, phi)\n",
    "# and superimposing other plots (vertical lines)\n",
    "fig, ax = plt.subplots()\n",
    "ds[\"RHO\"].map(\"R\", \"phi\").plot(fig, ax, log=True, cmap=\"inferno\", title=r\"$\\rho$\")\n",
    "for rad, lsi in zip(np.linspace(1.1, 2.0, 3), [\"-\", \"--\", \"-.\", \":\"]):\n",
    "    ax.axvline(x=rad, c=\"k\", ls=lsi, label=f\"R = {rad:.1f}\")\n",
    "ax.legend(frameon=False, loc=2)\n",
    "plt.show()"
   ]
  },
  {
   "cell_type": "markdown",
   "id": "34",
   "metadata": {},
   "source": [
    "Here we added some vertical lines at different radial locations, and we can perform various slices at these locations in order to visualize the density field along these lines."
   ]
  },
  {
   "cell_type": "code",
   "execution_count": null,
   "id": "35",
   "metadata": {},
   "outputs": [],
   "source": [
    "fig, ax = plt.subplots()\n",
    "for rad, lsi in zip(np.linspace(1.1, 2.0, 3), [\"-\", \"--\", \"-.\", \":\"]):\n",
    "    ds[\"RHO\"].radial_at_r(rad).map(\"phi\").plot(\n",
    "        fig, ax, log=True, title=r\"$\\rho$\", c=\"k\", ls=lsi, label=f\"R = {rad:.1f}\"\n",
    "    )\n",
    "ax.set(ylim=(1.4, 2.5), xlabel=r\"$\\phi$\")\n",
    "plt.legend(frameon=False)\n",
    "plt.show()"
   ]
  },
  {
   "cell_type": "markdown",
   "id": "36",
   "metadata": {},
   "source": [
    "### 5. Bonus: Line Integral Convolution (LIC)"
   ]
  },
  {
   "cell_type": "markdown",
   "id": "37",
   "metadata": {},
   "source": [
    "Here, we introduce the class `NonosLick` (not directly in the main library), and we can now use various functions and arguments that we introduced earlier, like `compute` or the coordinates at the cell center `ds.coords.Rmed`, `ds.coords.phimed`, and perform a Line Integral Convolution (method to visualize a vector field)."
   ]
  },
  {
   "cell_type": "markdown",
   "id": "38",
   "metadata": {},
   "source": [
    "#### 5.1 Get the coordinates\n",
    "\n",
    "In the next cell, we first convert from polar to cartesian the coordinates $(R, \\phi) \\rightarrow (x, y)$:\n",
    "\n",
    "$x = R \\cos(\\phi)$ \\\n",
    "$y = R \\sin(\\phi)$"
   ]
  },
  {
   "cell_type": "code",
   "execution_count": null,
   "id": "39",
   "metadata": {},
   "outputs": [],
   "source": [
    "from nonos.api import NonosLick\n",
    "\n",
    "# Radial and azimuthal coordinates\n",
    "Rmed = ds.coords.Rmed\n",
    "phimed = ds.coords.phimed\n",
    "# 3D array of the azimuthal coordinate\n",
    "pmed3d = phimed[None, :, None]\n",
    "\n",
    "# Return a list of coordinate matrices from coordinate vectors.\n",
    "RRmed, ppmed = np.meshgrid(Rmed, phimed, indexing=\"ij\")\n",
    "# Convert from polar to cartesian\n",
    "xxmed = RRmed * np.cos(ppmed)\n",
    "yymed = RRmed * np.sin(ppmed)"
   ]
  },
  {
   "cell_type": "markdown",
   "id": "40",
   "metadata": {},
   "source": [
    "#### 5.2 Compute the data\n",
    "\n",
    "Then we convert from polar to cartesian the the data $(v_R, v_\\phi^C) \\rightarrow (v_x, v_y)$:\n",
    "\n",
    "$v_x = v_R \\cos(\\phi) - v_\\phi^C \\sin(\\phi)$ \\\n",
    "$v_y = v_R \\sin(\\phi) + v_\\phi^C \\cos(\\phi)$"
   ]
  },
  {
   "cell_type": "code",
   "execution_count": null,
   "id": "41",
   "metadata": {},
   "outputs": [],
   "source": [
    "# Compute v_x from (v_R, v_phi^C)\n",
    "vxfield = compute(\n",
    "    field=\"VX\",\n",
    "    data=ds[\"VX1\"].data * np.cos(pmed3d) - vphifield.data * np.sin(pmed3d),\n",
    "    ref=ds[\"VX1\"],\n",
    ")\n",
    "\n",
    "# Compute v_y from (v_R, v_phi^C)\n",
    "vyfield = compute(\n",
    "    field=\"VY\",\n",
    "    data=ds[\"VX1\"].data * np.sin(pmed3d) + vphifield.data * np.cos(pmed3d),\n",
    "    ref=ds[\"VX1\"],\n",
    ")"
   ]
  },
  {
   "cell_type": "markdown",
   "id": "42",
   "metadata": {},
   "source": [
    "#### 5.3 Perform the LIC\n",
    "\n",
    "Then, we perform a LIC in a specific area around the planet:"
   ]
  },
  {
   "cell_type": "code",
   "execution_count": null,
   "id": "43",
   "metadata": {},
   "outputs": [],
   "source": [
    "# Define the area where we compute the LIC, and eventually the zoom of the final plot\n",
    "xmin, xmax, ymin, ymax = (0.5, 1.5, -0.5, 0.5)\n",
    "\n",
    "# LIC in cartesian, with the density field as background\n",
    "lick = NonosLick(\n",
    "    xxmed,\n",
    "    yymed,\n",
    "    vxfield,\n",
    "    vyfield,\n",
    "    ds[\"RHO\"],\n",
    "    xmin=xmin,\n",
    "    xmax=xmax,\n",
    "    ymin=ymin,\n",
    "    ymax=ymax,\n",
    ")"
   ]
  },
  {
   "cell_type": "markdown",
   "id": "44",
   "metadata": {},
   "source": [
    "#### 5.4 Plot the LIC\n",
    "\n",
    "Finally, we plot the LIC with some streamlines, demonstrating the flow around the planet, with the \"horseshoe\" coorbital regions clearly visible."
   ]
  },
  {
   "cell_type": "code",
   "execution_count": null,
   "id": "45",
   "metadata": {},
   "outputs": [],
   "source": [
    "fig, ax = plt.subplots(figsize=(6, 8))\n",
    "# Plot the density + LIC for the velocity vector\n",
    "# with some streamlines. We are in corotation with the planet\n",
    "lick.plot(fig, ax, log=True, title=r\"$\\rho$\", density_streamlines=1, cmap=\"inferno\")\n",
    "ax.set(aspect=\"equal\", xlim=(xmin, xmax), ylim=(ymin, ymax))\n",
    "plt.show()"
   ]
  }
 ],
 "metadata": {
  "kernelspec": {
   "display_name": "Python 3 (ipykernel)",
   "language": "python",
   "name": "python3"
  },
  "language_info": {
   "codemirror_mode": {
    "name": "ipython",
    "version": 3
   },
   "file_extension": ".py",
   "mimetype": "text/x-python",
   "name": "python",
   "nbconvert_exporter": "python",
   "pygments_lexer": "ipython3",
   "version": "3.10.14"
  }
 },
 "nbformat": 4,
 "nbformat_minor": 5
}
