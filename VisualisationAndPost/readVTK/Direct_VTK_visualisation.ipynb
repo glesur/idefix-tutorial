{
 "cells": [
  {
   "cell_type": "markdown",
   "id": "0",
   "metadata": {},
   "source": [
    "## Introduction\n",
    "\n",
    "`Idefix` is bundled with its own python routine to read its output files. The VTK files produced by Idefix follow the VTK standard and can therefore be opened with any VTK reader like Paraview of Visit.\n",
    "\n",
    "In this tutorial, we will learn how to: \n",
    "- load an IDEFIX dataset \n",
    "- visualize the data\n",
    "- modify the data to plot new quantities"
   ]
  },
  {
   "cell_type": "markdown",
   "id": "2",
   "metadata": {},
   "source": [
    "## Visualization from an Idefix point of view\n",
    "\n",
    "### 1 - Loading a dataset"
   ]
  },
  {
   "cell_type": "markdown",
   "id": "3",
   "metadata": {},
   "source": [
    "Get the path of the directory where you ran the planet-disk interaction problem (`../AdvancedSetup/problem1/`), and import the following libraries (we import the functions included in your clone of the idefix repository, so `$IDEFIX_DIR` must be set)"
   ]
  },
  {
   "cell_type": "code",
   "execution_count": null,
   "id": "4",
   "metadata": {},
   "outputs": [],
   "source": [
    "import matplotlib.pyplot as plt\n",
    "import numpy as np\n",
    "\n",
    "import os\n",
    "import sys\n",
    "sys.path.append(os.getenv(\"IDEFIX_DIR\"))\n",
    "from pytools.vtk_io import readVTK"
   ]
  },
  {
   "cell_type": "code",
   "execution_count": null,
   "id": "5",
   "metadata": {},
   "outputs": [],
   "source": [
    "directory = \"../../AdvancedSetup/problem1/\"  # CHECK YOUR PATH!\n",
    "# load the VTK file data.0003.vtk in the dataset V\n",
    "V = readVTK(directory+\"data.0003.vtk\")"
   ]
  },
  {
   "cell_type": "markdown",
   "id": "6",
   "metadata": {},
   "source": [
    "`V` is a class that contains the following attributes"
   ]
  },
  {
   "cell_type": "code",
   "execution_count": null,
   "id": "7",
   "metadata": {},
   "outputs": [],
   "source": [
    "print(vars(V).keys())"
   ]
  },
  {
   "cell_type": "markdown",
   "id": "20e3fa36-a9e2-4404-80a1-15eabd324d76",
   "metadata": {},
   "source": [
    "Of particular importance is the dictionnary `data` that contains all of the 3D fields produced by the code:"
   ]
  },
  {
   "cell_type": "code",
   "execution_count": null,
   "id": "8",
   "metadata": {},
   "outputs": [],
   "source": [
    "print(V.data.keys())"
   ]
  },
  {
   "cell_type": "markdown",
   "id": "21",
   "metadata": {},
   "source": [
    "### 2 - Compute a new field"
   ]
  },
  {
   "cell_type": "markdown",
   "id": "22",
   "metadata": {},
   "source": [
    "We now want to consider the azimuthal component of the gas velocity ($v_\\phi$) computed in the frame corotating with the planet  (located in $R_p$, rotating at $\\Omega_p=R_p^{-3/2}$), and therefore create a corrotating field $v_\\phi^C$\n",
    "\n",
    "$v_\\phi^C = v_\\phi - R\\Omega_p$\n",
    "\n",
    "We start by definiting the planet's parameters"
   ]
  },
  {
   "cell_type": "code",
   "execution_count": null,
   "id": "23",
   "metadata": {},
   "outputs": [],
   "source": [
    "# radial location of the planet\n",
    "Rp = 1.0\n",
    "# Angular velocity of the planet\n",
    "OmegaP = Rp**(-3/2)"
   ]
  },
  {
   "cell_type": "markdown",
   "id": "24",
   "metadata": {},
   "source": [
    "We then compute the new azimuthal component and store it in our dataSet. `V_\\phi` is named `VX2`, so name the new field `VX2c`: "
   ]
  },
  {
   "cell_type": "code",
   "execution_count": null,
   "id": "25",
   "metadata": {},
   "outputs": [],
   "source": [
    "# The radius is the first coordinate of the simulation (x1), so it is V.x in the dataset\n",
    "# 3D array of the radial coordinate\n",
    "R = V.x[:, None, None]\n",
    "\n",
    "V.data['VX2c']=V.data[\"VX2\"]-OmegaP*R"
   ]
  },
  {
   "cell_type": "markdown",
   "id": "26",
   "metadata": {},
   "source": [
    "### 3 - Visualize the data: 1D cut"
   ]
  },
  {
   "cell_type": "markdown",
   "id": "ac72c1d8-0bbb-4838-b06e-018d3fd989a8",
   "metadata": {},
   "source": [
    "We can perform simple 1D cut of the dataset using standard matplolib calls."
   ]
  },
  {
   "cell_type": "code",
   "execution_count": null,
   "id": "5e9876ac-ee8c-4cfd-bc9b-07c7cbe576b1",
   "metadata": {},
   "outputs": [],
   "source": [
    "# Density cut vs R at phi=0 (planet location)\n",
    "plt.figure(figsize=(7,5))\n",
    "plt.loglog(V.x,V.data['RHO'][:,0,0],label='@planet location')\n",
    "plt.loglog(V.x,V.data['RHO'][:,V.ny//2,0],label='opposite planet')\n",
    "plt.legend()\n",
    "plt.xlabel('R')\n",
    "plt.ylabel(r'$\\Sigma$')"
   ]
  },
  {
   "cell_type": "code",
   "execution_count": null,
   "id": "88ec4ed7-fb01-4f7e-aa4f-06e091b8cb83",
   "metadata": {},
   "outputs": [],
   "source": [
    "# Density cut vs phi at phi=0 (planet location)\n",
    "iplanet=np.argwhere(V.x>=1.0)[0][0]\n",
    "plt.figure(figsize=(7,5))\n",
    "plt.plot(V.y,V.data['VX1'][iplanet,:,0],'.',label='$V_r$')\n",
    "plt.plot(V.y,V.data['VX2c'][iplanet,:,0],'.',label='$\\delta V_\\phi$')\n",
    "plt.legend()\n",
    "plt.xlabel('$\\phi$')\n",
    "plt.ylabel(r'velocity')"
   ]
  },
  {
   "cell_type": "markdown",
   "id": "1a7c6ba4-d714-49fb-a26b-7b8b354a39e6",
   "metadata": {},
   "source": [
    "### 4 - Visualize the data: 2D cut"
   ]
  },
  {
   "cell_type": "markdown",
   "id": "27",
   "metadata": {},
   "source": [
    "Before plotting 2D data, we need to convert the field into an object that can be plotted. To do that, we need to map the coordinate system stored in the VTK file (`r=V.x`, `y=V.phi`) to a cartesian system. We will need both the cell center coordinates, and the cell corners."
   ]
  },
  {
   "cell_type": "code",
   "execution_count": null,
   "id": "28",
   "metadata": {},
   "outputs": [],
   "source": [
    "# Corner of the cells, deduced from the left side of the cells in R and phi, stored in V.xl and V.yl\n",
    "x=V.xl[:,None]*np.cos(V.yl[None,:])\n",
    "y=V.xl[:,None]*np.sin(V.yl[None,:])\n",
    "\n",
    "# Center of the cells, deduced from the central coordinate of each cell\n",
    "xc=V.x[:,None]*np.cos(V.y[None,:])\n",
    "yc=V.x[:,None]*np.sin(V.y[None,:])"
   ]
  },
  {
   "cell_type": "markdown",
   "id": "29",
   "metadata": {},
   "source": [
    "Note that here there is just one cell in the vertical direction, so you don't need to perform a vertical slice beforehand. But in a general 3D case, you need first to reduce the dimension with one or two operations, and then map the field in the target plane."
   ]
  },
  {
   "cell_type": "code",
   "execution_count": null,
   "id": "30",
   "metadata": {},
   "outputs": [],
   "source": [
    "import matplotlib.colors as colors\n",
    "\n",
    "# plot the density using log colorbar\n",
    "plt.figure(figsize=(7,7))\n",
    "plt.pcolormesh(x,y,V.data['RHO'][:,:,0],cmap='inferno',norm=colors.LogNorm())\n",
    "plt.xlabel('x')\n",
    "plt.ylabel('y')\n",
    "plt.colorbar()\n",
    "plt.title('Density')\n",
    "plt.gca().set_aspect('equal')"
   ]
  },
  {
   "cell_type": "markdown",
   "id": "31",
   "metadata": {},
   "source": [
    "We have here a cartesian view of the density field, in log scale, using the colormap `\"inferno\"` and with a colorbar and title. We can do the same in a polar view.\n",
    "\n",
    "Let's do the same for the velocity field:"
   ]
  },
  {
   "cell_type": "code",
   "execution_count": null,
   "id": "32",
   "metadata": {},
   "outputs": [],
   "source": [
    "plt.figure(figsize=(7,7))\n",
    "plt.pcolormesh(x,y,V.data['VX1'][:,:,0],cmap='seismic',vmin=-0.1,vmax=0.1)\n",
    "plt.xlabel('x')\n",
    "plt.ylabel('y')\n",
    "plt.colorbar()\n",
    "plt.title('$V_r$')\n",
    "plt.gca().set_aspect('equal')\n",
    "\n",
    "plt.figure(figsize=(7,7))\n",
    "plt.pcolormesh(x,y,V.data['VX2c'][:,:,0],cmap='seismic',vmin=-0.5,vmax=0.5)\n",
    "plt.xlabel('x')\n",
    "plt.ylabel('y')\n",
    "plt.colorbar()\n",
    "plt.title('$V_\\phi-\\Omega_p R$')\n",
    "plt.gca().set_aspect('equal')"
   ]
  },
  {
   "cell_type": "markdown",
   "id": "8d933a8f-76af-4a7c-98b4-1635cb583719",
   "metadata": {},
   "source": [
    "Exercise: plot the gas to dust density ratio in a polar view!"
   ]
  }
 ],
 "metadata": {
  "kernelspec": {
   "display_name": "Python 3 (ipykernel)",
   "language": "python",
   "name": "python3"
  },
  "language_info": {
   "codemirror_mode": {
    "name": "ipython",
    "version": 3
   },
   "file_extension": ".py",
   "mimetype": "text/x-python",
   "name": "python",
   "nbconvert_exporter": "python",
   "pygments_lexer": "ipython3",
   "version": "3.10.13"
  }
 },
 "nbformat": 4,
 "nbformat_minor": 5
}
