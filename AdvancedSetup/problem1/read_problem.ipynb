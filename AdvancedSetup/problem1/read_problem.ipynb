{
 "cells": [
  {
   "cell_type": "code",
   "execution_count": null,
   "id": "9957546f-1f37-4c30-a0a0-12f6bb7585ad",
   "metadata": {},
   "outputs": [],
   "source": [
    "# import Idefix python tools (part of the Idefix git repo, so we add this to python path) \n",
    "%matplotlib widget\n",
    "import os\n",
    "import sys\n",
    "# These path are specific to this Jureca tutorial\n",
    "user=os.getenv(\"USER\")\n",
    "sys.path.append(\"/p/project1/training2437/tera_day2/\"+user+\"/idefix/idefix.src/\")\n",
    "from pytools.vtk_io import readVTK\n",
    "import matplotlib.pyplot as plt\n",
    "import numpy as np"
   ]
  },
  {
   "cell_type": "code",
   "execution_count": null,
   "id": "c4472c4f-7ee6-46de-b4df-6da6bac71d56",
   "metadata": {},
   "outputs": [],
   "source": [
    "# Read output file after 3 orbitz\n",
    "n=3\n",
    "V=readVTK(\"data.%04d.vtk\"%n)"
   ]
  },
  {
   "cell_type": "code",
   "execution_count": null,
   "id": "f585bfd6-acb3-4f25-b53e-87bfcbd65b59",
   "metadata": {},
   "outputs": [],
   "source": [
    "# define cartesian coordinates from radius (xl) and azimuth (yl) in the VTK file\n",
    "x=V.xl[:,None]*np.cos(V.yl[None,:])\n",
    "y=V.xl[:,None]*np.sin(V.yl[None,:])"
   ]
  },
  {
   "cell_type": "code",
   "execution_count": null,
   "id": "5ada9c57-0f36-446d-9237-9fcb1e0e1c62",
   "metadata": {},
   "outputs": [],
   "source": [
    "# plot the dataset\n",
    "for field in V.data.keys():\n",
    "  plt.figure()\n",
    "  plt.pcolormesh(x,y,V.data[field][:,:,0])\n",
    "  plt.title(field+ \" @ t=%f\"%V.t[0])\n",
    "  plt.colorbar()\n",
    "  plt.gca().set_aspect('equal')"
   ]
  }
 ],
 "metadata": {
  "kernelspec": {
   "display_name": "Python 3 (ipykernel)",
   "language": "python",
   "name": "python3"
  },
  "language_info": {
   "codemirror_mode": {
    "name": "ipython",
    "version": 3
   },
   "file_extension": ".py",
   "mimetype": "text/x-python",
   "name": "python",
   "nbconvert_exporter": "python",
   "pygments_lexer": "ipython3",
   "version": "3.10.14"
  }
 },
 "nbformat": 4,
 "nbformat_minor": 5
}
